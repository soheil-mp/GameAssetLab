{
 "cells": [
  {
   "cell_type": "markdown",
   "metadata": {},
   "source": [
    "<br>\n",
    "\n",
    "<h1 style=\"text-align:center;\">Image Captioning using BLIP</h1>"
   ]
  },
  {
   "cell_type": "markdown",
   "metadata": {},
   "source": [
    "<br>\n",
    "\n",
    "## Initial Setup\n",
    "\n",
    "---"
   ]
  },
  {
   "cell_type": "code",
   "execution_count": 1,
   "metadata": {},
   "outputs": [
    {
     "name": "stderr",
     "output_type": "stream",
     "text": [
      "fatal: destination path 'BLIP' already exists and is not an empty directory.\n"
     ]
    }
   ],
   "source": [
    "# Clone the BLIP repository\n",
    "!git clone https://github.com/salesforce/BLIP.git"
   ]
  },
  {
   "cell_type": "code",
   "execution_count": 2,
   "metadata": {},
   "outputs": [],
   "source": [
    "# Change the directory to BLIP\n",
    "import os\n",
    "os.chdir(\"BLIP\")"
   ]
  },
  {
   "cell_type": "code",
   "execution_count": null,
   "metadata": {},
   "outputs": [],
   "source": [
    "# Import the libraries \n",
    "import tqdm\n",
    "from PIL import Image\n",
    "import pandas as pd\n",
    "import requests\n",
    "import torch\n",
    "from torchvision import transforms\n",
    "from torchvision.transforms.functional import InterpolationMode\n",
    "import matplotlib.pyplot as plt\n",
    "from models.blip import blip_decoder"
   ]
  },
  {
   "cell_type": "markdown",
   "metadata": {},
   "source": [
    "<br>\n",
    "\n",
    "## Generate Caption for Image Dataset\n",
    "\n",
    "---"
   ]
  },
  {
   "cell_type": "code",
   "execution_count": 4,
   "metadata": {},
   "outputs": [],
   "source": [
    "# Use cuda if available\n",
    "device = torch.device('cuda' if torch.cuda.is_available() else 'cpu')"
   ]
  },
  {
   "cell_type": "code",
   "execution_count": 5,
   "metadata": {},
   "outputs": [],
   "source": [
    "# Rename all the images in the ./../data reporsitory  \n",
    "for index, filename in enumerate(os.listdir('./../../data/images/')):\n",
    "    if filename.endswith(\".png\"):\n",
    "        os.rename(f'./../../data/images/{filename}', f'./../../data/images/img ({index}).png')\n",
    "    else:\n",
    "        continue"
   ]
  },
  {
   "cell_type": "code",
   "execution_count": 6,
   "metadata": {},
   "outputs": [],
   "source": [
    "# Set the image size\n",
    "image_size = 128"
   ]
  },
  {
   "cell_type": "code",
   "execution_count": 7,
   "metadata": {},
   "outputs": [
    {
     "name": "stdout",
     "output_type": "stream",
     "text": [
      "reshape position embedding from 196 to 64\n",
      "load checkpoint from https://storage.googleapis.com/sfr-vision-language-research/BLIP/models/model_base_capfilt_large.pth\n"
     ]
    }
   ],
   "source": [
    "# URL BLIP model\n",
    "model_url = 'https://storage.googleapis.com/sfr-vision-language-research/BLIP/models/model_base_capfilt_large.pth'\n",
    "\n",
    "# Load the model\n",
    "model = blip_decoder(pretrained=model_url, image_size=image_size, vit='base')\n",
    "model.eval()\n",
    "model = model.to(device)"
   ]
  },
  {
   "cell_type": "code",
   "execution_count": 8,
   "metadata": {},
   "outputs": [
    {
     "name": "stderr",
     "output_type": "stream",
     "text": [
      "  0%|\u001b[32m                                                                                            \u001b[0m| 0/96 [00:00<?, ?it/s]\u001b[0m"
     ]
    },
    {
     "name": "stderr",
     "output_type": "stream",
     "text": [
      "100%|\u001b[32m███████████████████████████████████████████████████████████████████████████████████\u001b[0m| 96/96 [00:46<00:00,  2.07it/s]\u001b[0m\n"
     ]
    },
    {
     "data": {
      "text/html": [
       "<div>\n",
       "<style scoped>\n",
       "    .dataframe tbody tr th:only-of-type {\n",
       "        vertical-align: middle;\n",
       "    }\n",
       "\n",
       "    .dataframe tbody tr th {\n",
       "        vertical-align: top;\n",
       "    }\n",
       "\n",
       "    .dataframe thead th {\n",
       "        text-align: right;\n",
       "    }\n",
       "</style>\n",
       "<table border=\"1\" class=\"dataframe\">\n",
       "  <thead>\n",
       "    <tr style=\"text-align: right;\">\n",
       "      <th></th>\n",
       "      <th>image</th>\n",
       "      <th>caption</th>\n",
       "    </tr>\n",
       "  </thead>\n",
       "  <tbody>\n",
       "    <tr>\n",
       "      <th>0</th>\n",
       "      <td>img (0).png</td>\n",
       "      <td>a demonic demon with two large swords</td>\n",
       "    </tr>\n",
       "    <tr>\n",
       "      <th>1</th>\n",
       "      <td>img (1).png</td>\n",
       "      <td>a knight in purple, black and white with an el...</td>\n",
       "    </tr>\n",
       "    <tr>\n",
       "      <th>2</th>\n",
       "      <td>img (2).png</td>\n",
       "      <td>a warrior with a sword in hand</td>\n",
       "    </tr>\n",
       "    <tr>\n",
       "      <th>3</th>\n",
       "      <td>img (3).png</td>\n",
       "      <td>an ancient lady holding two swords</td>\n",
       "    </tr>\n",
       "    <tr>\n",
       "      <th>4</th>\n",
       "      <td>img (4).png</td>\n",
       "      <td>the faceless king holding a sword</td>\n",
       "    </tr>\n",
       "  </tbody>\n",
       "</table>\n",
       "</div>"
      ],
      "text/plain": [
       "         image                                            caption\n",
       "0  img (0).png              a demonic demon with two large swords\n",
       "1  img (1).png  a knight in purple, black and white with an el...\n",
       "2  img (2).png                     a warrior with a sword in hand\n",
       "3  img (3).png                 an ancient lady holding two swords\n",
       "4  img (4).png                  the faceless king holding a sword"
      ]
     },
     "execution_count": 8,
     "metadata": {},
     "output_type": "execute_result"
    }
   ],
   "source": [
    "# Initialize a dataframe to store the results\n",
    "results = pd.DataFrame(columns=['image', 'caption'])\n",
    "\n",
    "# Loop through all the images in the ./../data reporsitory\n",
    "for filename in tqdm.tqdm(os.listdir('./../../data/images/'), ncols=120, colour=\"green\"):\n",
    "\n",
    "    # Check if the file is a .png file\n",
    "    if filename.endswith(\".png\"):\n",
    "\n",
    "        # Open the image\n",
    "        img = Image.open(f'./../../data/images/{filename}').convert('RGB')\n",
    "        \n",
    "        # Transform the image\n",
    "        transform = transforms.Compose([\n",
    "            transforms.Resize((image_size, image_size), interpolation=InterpolationMode.BICUBIC),\n",
    "            transforms.ToTensor(),\n",
    "            transforms.Normalize((0.48145466, 0.4578275, 0.40821073), (0.26862954, 0.26130258, 0.27577711))\n",
    "        ]) \n",
    "        image = transform(img).unsqueeze(0).to(device)   \n",
    "\n",
    "        # Generate the caption\n",
    "        with torch.no_grad():\n",
    "            #caption = model.generate(image, sample=False, num_beams=5, max_length=100, min_length=10)    # beam search\n",
    "            caption = model.generate(image, sample=True, top_p=0.9, max_length=100, min_length=10)        # nucleus sampling\n",
    "\n",
    "        # Append the results to the dataframe\n",
    "        results = pd.concat([results, pd.DataFrame({'image': filename, 'caption': caption})], ignore_index=True)\n",
    "                \n",
    "    else:\n",
    "        continue\n",
    "\n",
    "# Save the results to a csv file\n",
    "results.to_csv('./../../data/dataset.csv', index=False)\n",
    "\n",
    "# Display the results\n",
    "results.head()"
   ]
  },
  {
   "cell_type": "code",
   "execution_count": 9,
   "metadata": {},
   "outputs": [
    {
     "data": {
      "image/jpeg": "[encoded data removed]",
      "image/png": "[encoded data removed]",
      "text/plain": [
       "<PIL.Image.Image image mode=RGB size=138x303>"
      ]
     },
     "metadata": {},
     "output_type": "display_data"
    }
   ],
   "source": [
    "display(img)"
   ]
  },
  {
   "cell_type": "code",
   "execution_count": null,
   "metadata": {},
   "outputs": [],
   "source": []
  }
 ],
 "metadata": {
  "kernelspec": {
   "display_name": "predator",
   "language": "python",
   "name": "python3"
  },
  "language_info": {
   "codemirror_mode": {
    "name": "ipython",
    "version": 3
   },
   "file_extension": ".py",
   "mimetype": "text/x-python",
   "name": "python",
   "nbconvert_exporter": "python",
   "pygments_lexer": "ipython3",
   "version": "3.9.0"
  }
 },
 "nbformat": 4,
 "nbformat_minor": 2
}
